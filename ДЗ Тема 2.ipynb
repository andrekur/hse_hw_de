{
  "nbformat": 4,
  "nbformat_minor": 0,
  "metadata": {
    "colab": {
      "provenance": [],
      "authorship_tag": "ABX9TyMqChzLGcHkms8dAgg7Tu/S",
      "include_colab_link": true
    },
    "kernelspec": {
      "name": "python3",
      "display_name": "Python 3"
    },
    "language_info": {
      "name": "python"
    }
  },
  "cells": [
    {
      "cell_type": "markdown",
      "metadata": {
        "id": "view-in-github",
        "colab_type": "text"
      },
      "source": [
        "<a href=\"https://colab.research.google.com/github/andrekur/hse_hw_de/blob/main/%D0%94%D0%97%20%D0%A2%D0%B5%D0%BC%D0%B0%202.ipynb\" target=\"_parent\"><img src=\"https://colab.research.google.com/assets/colab-badge.svg\" alt=\"Open In Colab\"/></a>"
      ]
    },
    {
      "cell_type": "code",
      "execution_count": 21,
      "metadata": {
        "colab": {
          "base_uri": "https://localhost:8080/"
        },
        "id": "NFvl--WtEOoo",
        "outputId": "d5545776-ff07-47f8-9d1e-382b6581920a"
      },
      "outputs": [
        {
          "output_type": "stream",
          "name": "stdout",
          "text": [
            "\n",
            "ЗАДАНИЕ №1\n",
            "The Moscow Times - Wednesday, October 02, 2002\n",
            "The Guardian - Friday, 11.10.13\n",
            "Daily News - 18 August 1977\n",
            "\n",
            "ЗАДАНИЕ №2\n",
            "Левая дата больше правой:\n",
            "[]\n",
            "Передали некорректную дату:\n",
            "[]\n",
            "Передали не строку(другой тип):\n",
            "[]\n",
            "Выводит range:\n",
            "['2022-01-01', '2022-01-02', '2022-01-03']\n",
            "Выводит range:\n",
            "['2022-12-10', '2022-12-11', '2022-12-12', '2022-12-13', '2022-12-14', '2022-12-15']\n"
          ]
        }
      ],
      "source": [
        "import datetime as dt\n",
        "\n",
        "print('\\nЗАДАНИЕ №1')\n",
        "\n",
        "\n",
        "# The Moscow Times - Wednesday, October 2, 2002\n",
        "# The Guardian - Friday, 11.10.13\n",
        "# Daily News - Thursday, 18 August 1977\n",
        "date_1 = dt.date(2002, 10, 2)\n",
        "print('The Moscow Times - ' + date_1.strftime('%A, %B %d, %Y'))\n",
        "date_2 = dt.date(13, 10, 11)\n",
        "print('The Guardian - ' + date_2.strftime('%A, %d.%m.%Y'))\n",
        "date_3 = dt.date(1977, 8, 18)\n",
        "print('Daily News - ' + date_3.strftime('%d %B %Y'))\n",
        "\n",
        "\n",
        "def date_range(input_date_1: str, input_date_2: str):\n",
        "  try:\n",
        "    date_1 = dt.datetime.strptime(input_date_1, \"%Y-%m-%d\").date()\n",
        "    date_2 = dt.datetime.strptime(input_date_2, \"%Y-%m-%d\").date()\n",
        "  except Exception as e:\n",
        "    return []\n",
        "\n",
        "  result = []\n",
        "  while date_1 <= date_2:\n",
        "    result.append(date_1.strftime('%Y-%m-%d'))\n",
        "    date_1 += dt.timedelta(1)\n",
        "\n",
        "  return result\n",
        "\n",
        "print('\\nЗАДАНИЕ №2')\n",
        "\n",
        "print('Левая дата больше правой:')\n",
        "print(date_range('2022-02-01', '2022-01-01'))\n",
        "print('Передали некорректную дату:')\n",
        "print(date_range('2022-31-31', '2022-01-03'))\n",
        "print('Передали не строку(другой тип):')\n",
        "print(date_range(12, 12))\n",
        "print('Выводит range:')\n",
        "print(date_range('2022-01-01', '2022-01-03'))\n",
        "print('Выводит range:')\n",
        "print(date_range('2022-12-10', '2022-12-15'))"
      ]
    }
  ]
}